{
  "nbformat": 4,
  "nbformat_minor": 0,
  "metadata": {
    "colab": {
      "provenance": []
    },
    "kernelspec": {
      "name": "python3",
      "display_name": "Python 3"
    },
    "language_info": {
      "name": "python"
    }
  },
  "cells": [
    {
      "cell_type": "markdown",
      "source": [
        "PRACTICLE QUESTION"
      ],
      "metadata": {
        "id": "Srw3ipeNxanD"
      }
    },
    {
      "cell_type": "code",
      "source": [
        "#1 How can u open a file for writing in python and write a string to it.\n",
        "with open(\"example.txt\", \"w\") as file:\n",
        "    file.write(\"Hello, world!\")"
      ],
      "metadata": {
        "id": "-PVp_GuZ0Elo"
      },
      "execution_count": 2,
      "outputs": []
    },
    {
      "cell_type": "markdown",
      "source": [],
      "metadata": {
        "id": "h01pSmtjxl-i"
      }
    },
    {
      "cell_type": "code",
      "execution_count": 3,
      "metadata": {
        "colab": {
          "base_uri": "https://localhost:8080/"
        },
        "id": "8rY__Qk3xQRz",
        "outputId": "d9ae5761-808f-491d-f493-9ca423ddf855"
      },
      "outputs": [
        {
          "output_type": "stream",
          "name": "stdout",
          "text": [
            "Hello, world!\n"
          ]
        }
      ],
      "source": [
        "#2 Write a python programme to read the contents of a file and print each line.\n",
        "with open(\"example.txt\", \"r\") as file:\n",
        "    lines = file.readlines()\n",
        "    for line in lines:\n",
        "        print(line.strip())"
      ]
    },
    {
      "cell_type": "code",
      "source": [
        "#3 How would you handle a case where the file doesnot exist while trying to open it for reading.\n",
        "try:\n",
        "    with open(\"nonexistent_file.txt\", \"r\") as file:\n",
        "        content = file.read()\n",
        "except FileNotFoundError:\n",
        "    print(\"The file does not exist.\")"
      ],
      "metadata": {
        "colab": {
          "base_uri": "https://localhost:8080/"
        },
        "id": "VwnJns6l1nAf",
        "outputId": "682daf38-3c62-4fda-b207-fdda01c491ba"
      },
      "execution_count": 4,
      "outputs": [
        {
          "output_type": "stream",
          "name": "stdout",
          "text": [
            "The file does not exist.\n"
          ]
        }
      ]
    },
    {
      "cell_type": "code",
      "source": [
        "#4 Write a python script that reads from one file and writes its content to another.\n",
        "try:\n",
        "    with open(\"input.txt\", \"r\") as input_file:\n",
        "        content = input_file.read()\n",
        "        with open(\"output.txt\", \"w\") as output_file:\n",
        "            output_file.write(content)\n",
        "except FileNotFoundError:\n",
        "    print(\"One of the files does not exist.\")"
      ],
      "metadata": {
        "colab": {
          "base_uri": "https://localhost:8080/"
        },
        "id": "bTlWfTB_1nEp",
        "outputId": "2b4520f8-f837-455f-b60f-0ee2746baa52"
      },
      "execution_count": 8,
      "outputs": [
        {
          "output_type": "stream",
          "name": "stdout",
          "text": [
            "One of the files does not exist.\n"
          ]
        }
      ]
    },
    {
      "cell_type": "code",
      "source": [
        "#5 How would you catch and handle division by zero error in python?\n",
        "try:\n",
        "    result = 10 / 0\n",
        "except ZeroDivisionError:\n",
        "    print(\"Error: Division by zero.\")"
      ],
      "metadata": {
        "colab": {
          "base_uri": "https://localhost:8080/"
        },
        "id": "FR2TKsQP1nIk",
        "outputId": "43162984-54bc-417f-f191-fe2f76c0956b"
      },
      "execution_count": 9,
      "outputs": [
        {
          "output_type": "stream",
          "name": "stdout",
          "text": [
            "Error: Division by zero.\n"
          ]
        }
      ]
    },
    {
      "cell_type": "code",
      "source": [
        "#6 Write a python programme that logs an error message to a log file when a division by zero exception occur.\n",
        "import logging\n",
        "\n",
        "logging.basicConfig(filename=\"error_log.txt\", level=logging.ERROR)\n",
        "\n",
        "try:\n",
        "    result = 10 / 0\n",
        "except ZeroDivisionError:\n",
        "    logging.error(\"Division by zero error occurred.\")"
      ],
      "metadata": {
        "colab": {
          "base_uri": "https://localhost:8080/"
        },
        "id": "bKyS5RyF1nL-",
        "outputId": "b3274196-8799-4ece-c0ef-174c558923a8"
      },
      "execution_count": 10,
      "outputs": [
        {
          "output_type": "stream",
          "name": "stderr",
          "text": [
            "ERROR:root:Division by zero error occurred.\n"
          ]
        }
      ]
    },
    {
      "cell_type": "code",
      "source": [
        "#7 How do you log information in different level(INFO,ERROR,WARNING) in python using logging module.\n",
        "import logging\n",
        "\n",
        "logging.basicConfig(filename=\"log_file.txt\", level=logging.INFO)\n",
        "\n",
        "logging.info(\"This is an informational message.\")\n",
        "logging.warning(\"This is a warning message.\")\n",
        "logging.error(\"This is an error message.\")"
      ],
      "metadata": {
        "colab": {
          "base_uri": "https://localhost:8080/"
        },
        "id": "a6B2gNBj1nP8",
        "outputId": "ca76e2c4-1bac-42ec-89e3-b699b50d1066"
      },
      "execution_count": 11,
      "outputs": [
        {
          "output_type": "stream",
          "name": "stderr",
          "text": [
            "WARNING:root:This is a warning message.\n",
            "ERROR:root:This is an error message.\n"
          ]
        }
      ]
    },
    {
      "cell_type": "code",
      "source": [
        "#8 Write a programme to handle a file opening error using exception handling.\n",
        "try:\n",
        "    with open(\"nonexistent_file.txt\", \"r\") as file:\n",
        "        content = file.read()\n",
        "except FileNotFoundError:\n",
        "    print(\"Error: The file does not exist.\")"
      ],
      "metadata": {
        "colab": {
          "base_uri": "https://localhost:8080/"
        },
        "id": "LiJspJn61nUD",
        "outputId": "8075c5b1-7ba1-4ca1-bff5-27488c35ba60"
      },
      "execution_count": 12,
      "outputs": [
        {
          "output_type": "stream",
          "name": "stdout",
          "text": [
            "Error: The file does not exist.\n"
          ]
        }
      ]
    },
    {
      "cell_type": "code",
      "source": [
        "#9 How can u read a file line by line and store its content in a list in python.\n",
        "with open(\"example.txt\", \"r\") as file:\n",
        "    lines = file.readlines()\n",
        "    for line in lines:\n",
        "        print(line.strip())"
      ],
      "metadata": {
        "colab": {
          "base_uri": "https://localhost:8080/"
        },
        "id": "GU98VgfU1nYO",
        "outputId": "657a1b01-7591-4a46-b8c1-34cf1126b54e"
      },
      "execution_count": 13,
      "outputs": [
        {
          "output_type": "stream",
          "name": "stdout",
          "text": [
            "Hello, world!\n"
          ]
        }
      ]
    },
    {
      "cell_type": "code",
      "source": [
        "#10 How can u append data to an existing file in python.\n",
        "with open(\"example.txt\", \"a\") as file:\n",
        "    file.write(\"\\nAppending some data.\")"
      ],
      "metadata": {
        "id": "lhU8RZYV5IZw"
      },
      "execution_count": 14,
      "outputs": []
    },
    {
      "cell_type": "code",
      "source": [
        "#11 Write a python programme that uses a try-except block to handle an error when attempting to access a dictionary key that doesnot exits.\n",
        "my_dict = {\"a\": 1, \"b\": 2, \"c\": 3}\n",
        "\n",
        "try:\n",
        "    value = my_dict[\"d\"]\n",
        "except KeyError:\n",
        "    print(\"Error: Key does not exist in the dictionary.\")"
      ],
      "metadata": {
        "colab": {
          "base_uri": "https://localhost:8080/"
        },
        "id": "9ftNoJRP5Idg",
        "outputId": "830fdd5b-01c8-440a-bec8-6052ef391d33"
      },
      "execution_count": 15,
      "outputs": [
        {
          "output_type": "stream",
          "name": "stdout",
          "text": [
            "Error: Key does not exist in the dictionary.\n"
          ]
        }
      ]
    },
    {
      "cell_type": "code",
      "source": [
        "#12 Write a programme that demonstrates using multiple except block to handle differnt types of exceptions.\n",
        "try:\n",
        "    result = 10 / 0\n",
        "except ZeroDivisionError:\n",
        "    print(\"Error: Division by zero.\")\n",
        "except ValueError:\n",
        "    print(\"Error: Invalid value.\")"
      ],
      "metadata": {
        "colab": {
          "base_uri": "https://localhost:8080/"
        },
        "id": "UAe1AduX5Ihe",
        "outputId": "55e00efe-6504-488e-987c-5a53ea1f8b61"
      },
      "execution_count": 16,
      "outputs": [
        {
          "output_type": "stream",
          "name": "stdout",
          "text": [
            "Error: Division by zero.\n"
          ]
        }
      ]
    },
    {
      "cell_type": "code",
      "source": [
        "#13 How would u check if a file exists before attempting to read it in python.\n",
        "import os\n",
        "\n",
        "file_path = \"example.txt\"\n",
        "\n",
        "if os.path.exists(file_path):\n",
        "    with open(file_path, \"r\") as file:\n",
        "        content = file.read()\n",
        "        print(content)"
      ],
      "metadata": {
        "colab": {
          "base_uri": "https://localhost:8080/"
        },
        "id": "ReWujTC25Ile",
        "outputId": "aa092ebb-a0ec-4a03-c220-5ebec2f66a61"
      },
      "execution_count": 17,
      "outputs": [
        {
          "output_type": "stream",
          "name": "stdout",
          "text": [
            "Hello, world!\n",
            "Appending some data.\n"
          ]
        }
      ]
    },
    {
      "cell_type": "code",
      "source": [
        "#14 Write a programme that uses the logging module to log both informational and error messages.\n",
        "import logging\n",
        "\n",
        "logging.basicConfig(filename=\"log_file.txt\", level=logging.INFO)\n",
        "\n",
        "logging.info(\"This is an informational message.\")\n",
        "logging.error(\"This is an error message.\")"
      ],
      "metadata": {
        "colab": {
          "base_uri": "https://localhost:8080/"
        },
        "id": "0SFQc9j95Ipf",
        "outputId": "a0f3b50c-4e18-4878-8a3b-e461f88abfdb"
      },
      "execution_count": 18,
      "outputs": [
        {
          "output_type": "stream",
          "name": "stderr",
          "text": [
            "ERROR:root:This is an error message.\n"
          ]
        }
      ]
    },
    {
      "cell_type": "code",
      "source": [
        "#15 Write a python programme that prints the content of a file and handle the case when the file is empty.\n",
        "try:\n",
        "    with open(\"example.txt\", \"r\") as file:\n",
        "        content = file.read()\n",
        "        if content:\n",
        "            print(content)\n",
        "        else:\n",
        "            print(\"The file is empty.\")\n",
        "except FileNotFoundError:\n",
        "    print(\"File not found.\")"
      ],
      "metadata": {
        "colab": {
          "base_uri": "https://localhost:8080/"
        },
        "id": "Xqjme9Ds5ItM",
        "outputId": "5723b4fc-1d20-4693-cd06-f49b0251259e"
      },
      "execution_count": 21,
      "outputs": [
        {
          "output_type": "stream",
          "name": "stdout",
          "text": [
            "Hello, world!\n",
            "Appending some data.\n"
          ]
        }
      ]
    },
    {
      "cell_type": "code",
      "source": [
        " #16 Demonstrate how to use memory profiling to check the memory usage of a small programme.\n",
        " def memory_usage_example():\n",
        "  data = [i**2 for i in range(100000)]\n",
        "  return data\n",
        "if __name__ == \"__main__\":\n",
        "  memory_usage_example()"
      ],
      "metadata": {
        "id": "LTrnltks5IxV"
      },
      "execution_count": 28,
      "outputs": []
    },
    {
      "cell_type": "code",
      "source": [
        "#17 Write a python programme to create and write a list of numbers to a file,one number per line.\n",
        "def write_numbers_to_file(numbers, file_path):\n",
        "    with open(file_path, \"w\") as file:\n",
        "        for number in numbers:\n",
        "            file.write(str(number) + \"\\n\")\n"
      ],
      "metadata": {
        "id": "8DAgerCu5I1n"
      },
      "execution_count": 1,
      "outputs": []
    },
    {
      "cell_type": "code",
      "source": [
        "#18 How would you implement basic logging setup that logs to a file with rotation after 1MB.\n",
        "import logging\n",
        "from logging.handlers import RotatingFileHandler"
      ],
      "metadata": {
        "id": "Fz3fD_TV5K0Q"
      },
      "execution_count": 3,
      "outputs": []
    },
    {
      "cell_type": "code",
      "source": [
        "#19 Write a programme that handles both indexerror and keyerror using a try-except block.\n",
        "def handle_index_and_key_errors(data, index, key):\n",
        "    try:\n",
        "        value = data[index]\n",
        "        print(\"Value at index\", index, \":\", value)\n",
        "    except IndexError:\n",
        "        print(\"Error: Index out of range.\")"
      ],
      "metadata": {
        "id": "T-5EG1Gw5LFH"
      },
      "execution_count": 5,
      "outputs": []
    },
    {
      "cell_type": "code",
      "source": [
        "#20 How would you open a file and read its content .using a context manager in python?\n",
        "def read_file(file_path):\n",
        "    with open(file_path, \"r\") as file:\n",
        "        content = file.read()\n",
        "        print(content)"
      ],
      "metadata": {
        "id": "uhv5nCiqgO4q"
      },
      "execution_count": 6,
      "outputs": []
    },
    {
      "cell_type": "code",
      "source": [
        "#21 Write a python programme that reads a file and prints the number of occurences of a specific word.\n",
        "def count_word_occurrences(file_path, word):\n",
        "    with open(file_path, \"r\") as file:\n",
        "        content = file.read()"
      ],
      "metadata": {
        "id": "CrgpXui5gUVM"
      },
      "execution_count": 7,
      "outputs": []
    },
    {
      "cell_type": "code",
      "source": [
        "#22 How can u check if a file is empty befor attempting to read its content.\n",
        "def is_file_empty(file_path):\n",
        "    with open(file_path, \"r\") as file:\n",
        "        content = file.read()\n",
        "        return len(content.strip()) == 0"
      ],
      "metadata": {
        "id": "Uibeu9gUgUo5"
      },
      "execution_count": 8,
      "outputs": []
    },
    {
      "cell_type": "code",
      "source": [
        "#23 Write a python programme that writes to a log file when an error occures during file handling.\n",
        "import logging\n",
        "logging.basicConfig(\n",
        "    filename=\"file_handling_log.txt\",\n",
        "    level=logging.ERROR,\n",
        "    format=\"%(asctime)s - %(levelname)s - %(message)s\"\n",
        ")\n",
        "\n",
        "def handle_file_errors(file_path):\n",
        "    try:\n",
        "        with open(file_path, \"r\") as file:\n",
        "            content = file.read()\n",
        "    except Exception as e:\n",
        "        logging.exception(f\"An error occurred: {e}\")"
      ],
      "metadata": {
        "id": "zgJcZkWygVWH"
      },
      "execution_count": 11,
      "outputs": []
    }
  ]
}